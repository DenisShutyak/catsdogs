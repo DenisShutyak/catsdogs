{
 "metadata": {
  "language_info": {
   "codemirror_mode": {
    "name": "ipython",
    "version": 3
   },
   "file_extension": ".py",
   "mimetype": "text/x-python",
   "name": "python",
   "nbconvert_exporter": "python",
   "pygments_lexer": "ipython3",
   "version": "3.8.3"
  },
  "orig_nbformat": 2,
  "kernelspec": {
   "name": "python383jvsc74a57bd0184056108a3547f2193d2efa92fb0f74250f14e7b469048393661033d42ee1bf",
   "display_name": "Python 3.8.3 64-bit (conda)"
  }
 },
 "nbformat": 4,
 "nbformat_minor": 2,
 "cells": [
  {
   "cell_type": "code",
   "execution_count": 1,
   "metadata": {},
   "outputs": [],
   "source": [
    "import os\n",
    "import glob\n",
    "import numpy as np\n",
    "import tensorflow as tf\n",
    "import pandas as pd\n",
    "import seaborn as sns\n",
    "import pydot\n",
    "import cv2\n",
    "import time\n",
    "from PIL import Image, ImageDraw"
   ]
  },
  {
   "cell_type": "code",
   "execution_count": 2,
   "metadata": {},
   "outputs": [],
   "source": [
    "def log_mse(y_true, y_pred):\n",
    "    return tf.reduce_mean(tf.math.log1p(tf.math.squared_difference(y_pred, y_true)), axis=-1)\n",
    "\n",
    "def focal_loss(alpha=0.9, gamma=2):\n",
    "  def focal_loss_with_logits(logits, targets, alpha, gamma, y_pred):\n",
    "    weight_a = alpha * (1 - y_pred) ** gamma * targets\n",
    "    weight_b = (1 - alpha) * y_pred ** gamma * (1 - targets)\n",
    "    \n",
    "    return (tf.math.log1p(tf.exp(-tf.abs(logits))) + tf.nn.relu(-logits)) * (weight_a + weight_b) + logits * weight_b\n",
    "\n",
    "  def loss(y_true, y_pred):\n",
    "    y_pred = tf.clip_by_value(y_pred, tf.keras.backend.epsilon(), 1 - tf.keras.backend.epsilon())\n",
    "    logits = tf.math.log(y_pred / (1 - y_pred))\n",
    "\n",
    "    loss = focal_loss_with_logits(logits=logits, targets=y_true, alpha=alpha, gamma=gamma, y_pred=y_pred)\n",
    "\n",
    "    return tf.reduce_mean(loss)\n",
    "\n",
    "  return loss"
   ]
  },
  {
   "cell_type": "code",
   "execution_count": 3,
   "metadata": {},
   "outputs": [
    {
     "output_type": "stream",
     "name": "stdout",
     "text": [
      "WARNING:tensorflow:No training configuration found in save file, so the model was *not* compiled. Compile it manually.\n"
     ]
    }
   ],
   "source": [
    "model = tf.keras.models.load_model(r'C:\\Users\\densh\\Desktop\\catdogs\\TestTask\\Custom_test\\CustomModel')"
   ]
  },
  {
   "cell_type": "code",
   "execution_count": 4,
   "metadata": {},
   "outputs": [],
   "source": [
    "def IOUab(boxA, boxB):\n",
    "\t# determine the (x, y)-coordinates of the intersection rectangle\n",
    "\txA = max(boxA[0], boxB[0])\n",
    "\tyA = max(boxA[1], boxB[1])\n",
    "\txB = min(boxA[2], boxB[2])\n",
    "\tyB = min(boxA[3], boxB[3])\n",
    "\t# compute the area of intersection rectangle\n",
    "\tinterArea = max(0, xB - xA + 1) * max(0, yB - yA + 1)\n",
    "\t# compute the area of both the prediction and ground-truth\n",
    "\t# rectangles\n",
    "\tboxAArea = (boxA[2] - boxA[0] + 1) * (boxA[3] - boxA[1] + 1)\n",
    "\tboxBArea = (boxB[2] - boxB[0] + 1) * (boxB[3] - boxB[1] + 1)\n",
    "\t# compute the intersection over union by taking the intersection\n",
    "\t# area and dividing it by the sum of prediction + ground-truth\n",
    "\t# areas - the interesection area\n",
    "\tiou = interArea / float(boxAArea + boxBArea - interArea)\n",
    "\t# return the intersection over union value\n",
    "\treturn iou"
   ]
  },
  {
   "cell_type": "code",
   "execution_count": 5,
   "metadata": {},
   "outputs": [],
   "source": [
    "def IOUhw(bbox1, bbox2):\n",
    "    '''Calculate overlap between two bounding boxes [x, y, w, h] as the area of intersection over the area of unity'''\n",
    "    x1, y1, w1, h1 = bbox1[0], bbox1[1], bbox1[2], bbox1[3]\n",
    "    x2, y2, w2, h2 = bbox2[0], bbox2[1], bbox2[2], bbox2[3]\n",
    "\n",
    "    w_I = max(x1-w1/2,x2-w2/2) - min(x1+w1/2,x2+w2/2)\n",
    "    h_I = max(y1-h1/2,y2-h2/2) - min(y1+h1/2,y2+h2/2)\n",
    "    if w_I <= 0 or h_I <= 0:  # no overlap\n",
    "        return 0.\n",
    "    I = w_I * h_I\n",
    "\n",
    "    U = w1 * h1 + w2 * h2 - I\n",
    "\n",
    "    return I / U"
   ]
  },
  {
   "cell_type": "code",
   "execution_count": 6,
   "metadata": {},
   "outputs": [
    {
     "output_type": "stream",
     "name": "stdout",
     "text": [
      "32.500543604354526 0.058938416539409684 0.8804071246819338\n"
     ]
    }
   ],
   "source": [
    "validation_data_dir = r'C:\\Users\\densh\\Desktop\\catdogs\\keras_try\\model_testing\\valid_set'\n",
    "Transfer_test = r'C:\\Users\\densh\\Desktop\\catdogs\\TestTask\\Custom_test'\n",
    "counter = 0\n",
    "overall_time = 0\n",
    "mIoU = 0\n",
    "prediction_count = 0\n",
    "for image in glob.glob(os.path.join(validation_data_dir,'*.jpg')):\n",
    "    title, ext = os.path.splitext(os.path.basename(image))\n",
    "    txt_file_name = title + '.txt'\n",
    "    imag = cv2.imread(image)\n",
    "    H, W, _  = imag.shape\n",
    "    img = cv2.resize(imag,(440,440))    \n",
    "    img = img.reshape(1,440,440,3)\n",
    "    img = np.array(img)/255.0\n",
    "    tic = time.perf_counter()\n",
    "    results = model.predict(img)\n",
    "    toc = time.perf_counter()\n",
    "    #print(f\"1 inference file in {toc - tic:0.4f} seconds\")\n",
    "    timer = toc - tic\n",
    "    overall_time = overall_time + timer\n",
    "\n",
    "    bbox1 = []\n",
    "    bbox2 = []\n",
    "\n",
    "    label_names = ['cat','dog']\n",
    "    class_label = label_names[np.argmax(results[0])]\n",
    "\n",
    "    x1_, y1_, x2_, y2_ = results[1][:][0]\n",
    "\n",
    "    x1 = int(W * (x1_ - x2_/2))\n",
    "    x2 = int(W * (x1_ + x2_/2))\n",
    "    y1 = int(H * (y1_ - y2_/2))\n",
    "    y2 = int(H * (y1_ + y2_/2))\n",
    "    bbox1 = [x1,y1,x2,y2]\n",
    "    top_left_pred = (x1,y1)\n",
    "    right_bottom_pred = (x2, y2)\n",
    "\n",
    "    with open(os.path.join(Transfer_test+'/Labels'+'/',title + '_pred' + '.txt'),'w+') as new_txt:\n",
    "        new_txt.write(str(class_label) + '\\t' + str(x1) \n",
    "        + '\\t' + str(y1) + '\\t' + str(x2) + '\\t' + str(y2) + '\\t' + str(timer))\n",
    "    \n",
    "    truth_txt = open(os.path.join(validation_data_dir,txt_file_name),'r')\n",
    "    labelList = truth_txt.readlines()\n",
    "    for label in labelList:\n",
    "        label = label.strip().split()\n",
    "        class_=int(label[0])\n",
    "        x1 = int(label[1])\n",
    "        x2 = int(label[3])\n",
    "        y1 = int(label[2])\n",
    "        y2 = int(label[4])\n",
    "    \n",
    "    top_left_true = (x1, y1)\n",
    "    right_bottom_true = (x2,y2)\n",
    "    bbox2 = [x1,y1,(x2),y2]\n",
    "\n",
    "    IoU = float(IOUab(bbox1, bbox2)*100)\n",
    "\n",
    "    if class_label == label_names[class_-1]:\n",
    "        prediction_count =  prediction_count + 1\n",
    "    counter = counter + 1\n",
    "\n",
    "    cv2.rectangle(imag, top_left_true, right_bottom_true,[0,0,0],2)\n",
    "    cv2.rectangle(imag, top_left_pred, right_bottom_pred,[255,0,0],2)\n",
    "    cv2.putText( imag,'IoU = '+f\"{IoU:.{2}f}\" +' '+  label_names[class_-1], (int(x1), int(y1) + int(28)),  cv2.FONT_HERSHEY_TRIPLEX, 0.8, [0, 0, 0], 2)\n",
    "    cv2.imwrite(r'C:\\Users\\densh\\Desktop\\catdogs\\TestTask\\Custom_test\\Images/' + title+'.jpg',imag)\n",
    "    mIoU = mIoU + IoU\n",
    "    #break\n",
    "mIoU = mIoU/counter\n",
    "mean_time = overall_time/counter\n",
    "Acc = prediction_count/counter\n",
    "print(mIoU, mean_time, Acc)\n",
    "\n",
    "\n",
    "\n",
    "\n"
   ]
  }
 ]
}